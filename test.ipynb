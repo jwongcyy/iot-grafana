{
 "cells": [
  {
   "cell_type": "markdown",
   "metadata": {},
   "source": [
    "Connected to base (Python 3.13.2)"
   ]
  },
  {
   "cell_type": "code",
   "execution_count": 1,
   "id": "c1f16482-b054-4023-80da-592f8270e4c6",
   "metadata": {},
   "outputs": [
    {
     "name": "stdout",
     "output_type": "stream",
     "text": [
      "Response received from Edenic API: data\n"
     ]
    }
   ],
   "source": [
    "import os\n",
    "import requests\n",
    "import time\n",
    "import pandas as pd\n",
    "\n",
    "# read secrets from environment\n",
    "API_KEY = os.environ.get('API_KEY')\n",
    "API_URL = os.environ.get('API_URL')\n",
    "\n",
    "if not API_KEY or not API_URL:\n",
    "    raise ValueError(\"Missing required tokens in environment variables.\")\n",
    "\n",
    "headers = {\n",
    "    \"Authorization\": API_KEY\n",
    "}\n",
    "\n",
    "def get_timestamps_past_7_days():\n",
    "    # Current time (end timestamp) in milliseconds\n",
    "    end_ts = int(time.time() * 1000)\n",
    "    # Start timestamp = 7 days ago in milliseconds\n",
    "    start_ts = end_ts - (7 * 24 * 60 * 60 * 1000)\n",
    "    return start_ts, end_ts\n",
    "\n",
    "def fetch_telemetry():\n",
    "    start_ts, end_ts = get_timestamps_past_7_days()\n",
    "    \n",
    "    params = {\n",
    "        \"keys\": \"temperature,electrical_conductivity,ph\",\n",
    "        \"startTs\": str(start_ts),\n",
    "        \"endTs\": str(end_ts),\n",
    "        \"interval\": \"10800000\",  # 3-hour interval\n",
    "        \"agg\": \"AVG\",\n",
    "        \"orderBy\": \"ASC\"\n",
    "    }\n",
    "    \n",
    "    response = requests.get(API_URL, headers=headers, params=params)\n",
    "    if response.status_code == 200:\n",
    "        print(\"Response received from Edenic API: data\")\n",
    "        data = response.json()\n",
    "        return data\n",
    "    else:\n",
    "        print(f\"Failed to fetch telemetry data: HTTP {response.status_code}\")\n",
    "        print(response.text)\n",
    "        return None\n",
    "\n",
    "if __name__ == \"__main__\":\n",
    "    data = fetch_telemetry()"
   ]
  },
  {
   "cell_type": "code",
   "execution_count": 24,
   "metadata": {},
   "outputs": [
    {
     "name": "stdout",
     "output_type": "stream",
     "text": [
      "Exported edenic_temperature.csv with 56 records\n",
      "\n",
      "Sample of edenic_temperature.csv:\n",
      "                           temperature\n",
      "0 2025-07-19 08:59:14.737    31.993258\n",
      "1 2025-07-19 11:59:14.737    32.083240 \n",
      "--------------------------------------------------\n",
      "\n",
      "Exported edenic_electrical_conductivity.csv with 56 records\n",
      "\n",
      "Sample of edenic_electrical_conductivity.csv:\n",
      "                           electrical_conductivity\n",
      "0 2025-07-19 08:59:14.737                 4.930000\n",
      "1 2025-07-19 11:59:14.737                 4.927727 \n",
      "--------------------------------------------------\n",
      "\n",
      "Exported edenic_ph.csv with 56 records\n",
      "\n",
      "Sample of edenic_ph.csv:\n",
      "                                 ph\n",
      "0 2025-07-19 08:59:14.737  9.354719\n",
      "1 2025-07-19 11:59:14.737  9.355642 \n",
      "--------------------------------------------------\n",
      "\n"
     ]
    }
   ],
   "source": [
    "# Process and export each parameter\n",
    "for param_name, param_data in data.items():\n",
    "    # Create DataFrame\n",
    "    df = pd.DataFrame(param_data)\n",
    "    \n",
    "    # Convert timestamp from milliseconds to datetime\n",
    "    df['ts'] = pd.to_datetime(df['ts'], unit='ms')\n",
    "    \n",
    "    # Convert value to float (except for pH which might need special handling)\n",
    "    df['value'] = df['value'].astype(float)\n",
    "    \n",
    "    # Rename columns\n",
    "    df = df.rename(columns={\n",
    "        'ts': '',\n",
    "        'value': param_name\n",
    "    })\n",
    "\n",
    "    # Export to CSV\n",
    "    filename = f\"edenic_{param_name}.csv\"\n",
    "    df.to_csv(filename, index=False)\n",
    "    print(f\"Exported {filename} with {len(df)} records\")\n",
    "    \n",
    "    # Show sample of exported data\n",
    "    print(f\"\\nSample of {filename}:\")\n",
    "    print(df.head(2), \"\\n\" + \"-\"*50 + \"\\n\")"
   ]
  }
 ],
 "metadata": {
  "kernelspec": {
   "display_name": "base",
   "language": "python",
   "name": "python3"
  },
  "language_info": {
   "codemirror_mode": {
    "name": "ipython",
    "version": 3
   },
   "file_extension": ".py",
   "mimetype": "text/x-python",
   "name": "python",
   "nbconvert_exporter": "python",
   "pygments_lexer": "ipython3",
   "version": "3.13.2"
  }
 },
 "nbformat": 4,
 "nbformat_minor": 2
}
